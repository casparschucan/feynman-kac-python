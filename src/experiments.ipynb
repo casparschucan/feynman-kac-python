{
 "cells": [
  {
   "cell_type": "markdown",
   "id": "586bc075-c117-4ad2-aed6-1620998735c5",
   "metadata": {},
   "source": [
    "# Basic MLMC runs and plots"
   ]
  },
  {
   "cell_type": "code",
   "execution_count": 1,
   "id": "f01fc67c-f2ff-4b11-8677-73f9e263bfa7",
   "metadata": {},
   "outputs": [],
   "source": [
    "import numpy as np \n",
    "\n",
    "\n",
    "def non_hom_test(x, y):\n",
    "    return np.sin(x)*np.sin(y)\n",
    "\n",
    "\n",
    "def test_phi(x, y):\n",
    "    return np.sin(np.pi*x)*np.sin(np.pi*y)\n",
    "\n",
    "\n",
    "def test_bound(x, y):\n",
    "    return 0\n",
    "\n",
    "\n",
    "def test_rhs(x, y):\n",
    "    return np.pi**2 * (np.sin(np.pi * x)*np.sin(np.pi * y))\n"
   ]
  },
  {
   "cell_type": "code",
   "execution_count": 2,
   "id": "e43df527-bff8-4d61-8056-960672b5b462",
   "metadata": {},
   "outputs": [],
   "source": [
    "from mlmc import mlmc\n",
    "from tqdm.notebook import tqdm\n",
    "\n",
    "\n",
    "def check_mlmc(N, epsilon, dt0, x=.5, y=.5):\n",
    "    errs = np.zeros(N)\n",
    "    expectation = np.zeros(N)\n",
    "    cost = np.zeros(N)\n",
    "    max_level = np.zeros(N)\n",
    "    for i in tqdm(range(N)):\n",
    "        expectation[i], cost[i], max_level[i] = mlmc(x, y, \n",
    "                                                     test_bound, test_rhs, \n",
    "                                                     dt0, epsilon)\n",
    "        errs[i] =  abs(test_phi(x, y) - expectation[i])\n",
    "        \n",
    "    return errs, cost, max_level"
   ]
  },
  {
   "cell_type": "code",
   "execution_count": null,
   "id": "93f96f4a-93b3-4aa8-aa29-b4209282d53b",
   "metadata": {},
   "outputs": [
    {
     "data": {
      "application/vnd.jupyter.widget-view+json": {
       "model_id": "f1f58a513f9a438d8cb37bb5203ab2a1",
       "version_major": 2,
       "version_minor": 0
      },
      "text/plain": [
       "  0%|          | 0/50 [00:00<?, ?it/s]"
      ]
     },
     "metadata": {},
     "output_type": "display_data"
    },
    {
     "name": "stdout",
     "output_type": "stream",
     "text": [
      "average error:  0.03499922148457189\n",
      "maximal error:  0.1094493807403758\n",
      "minimal error:  0.0002783370154320064\n",
      "std of error:  0.0250648636767545\n"
     ]
    },
    {
     "data": {
      "application/vnd.jupyter.widget-view+json": {
       "model_id": "847e67b501e14ecab365fa6a0a37652b",
       "version_major": 2,
       "version_minor": 0
      },
      "text/plain": [
       "  0%|          | 0/50 [00:00<?, ?it/s]"
      ]
     },
     "metadata": {},
     "output_type": "display_data"
    },
    {
     "name": "stdout",
     "output_type": "stream",
     "text": [
      "average error:  0.032581625503193996\n",
      "maximal error:  0.08670429106633981\n",
      "minimal error:  0.0008446515795983434\n",
      "std of error:  0.020348366343004055\n"
     ]
    },
    {
     "data": {
      "application/vnd.jupyter.widget-view+json": {
       "model_id": "0f42e74d007f4a9882b26d02f777760e",
       "version_major": 2,
       "version_minor": 0
      },
      "text/plain": [
       "  0%|          | 0/50 [00:00<?, ?it/s]"
      ]
     },
     "metadata": {},
     "output_type": "display_data"
    },
    {
     "name": "stdout",
     "output_type": "stream",
     "text": [
      "average error:  0.028085616383579294\n",
      "maximal error:  0.07681931253039531\n",
      "minimal error:  0.0010154096386336686\n",
      "std of error:  0.01924336035099154\n"
     ]
    },
    {
     "data": {
      "application/vnd.jupyter.widget-view+json": {
       "model_id": "6d0e8addc661473f84bbe489fa140ef4",
       "version_major": 2,
       "version_minor": 0
      },
      "text/plain": [
       "  0%|          | 0/50 [00:00<?, ?it/s]"
      ]
     },
     "metadata": {},
     "output_type": "display_data"
    }
   ],
   "source": [
    "import matplotlib.pyplot as plt\n",
    "N = 50\n",
    "x = y = .5\n",
    "dt0s = [.1/(2**i) for i in range(3, 9)]\n",
    "epsilon = .025\n",
    "mean_errs = []\n",
    "mean_levels = []\n",
    "mean_costs = []\n",
    "\n",
    "for dt0 in dt0s:\n",
    "    errs, costs, levels = check_mlmc(N, epsilon, dt0)\n",
    "    print(\"average error: \", errs.mean())\n",
    "    print(\"maximal error: \", errs.max())\n",
    "    print(\"minimal error: \", errs.min())    \n",
    "    print(\"std of error: \", errs.std())\n",
    "    mean_errs.append(errs.mean())\n",
    "    mean_levels.append(levels.mean())\n",
    "\n",
    "# Create subplots with 1 row, 2 columns\n",
    "fig, axes = plt.subplots(1, 2, figsize=(12, 5))\n",
    "\n",
    "# Log-Log plot\n",
    "axes[0].loglog(dt0s, mean_errs, label=\"average error\", base=2)\n",
    "axes[0].set_title(\"average error\")\n",
    "axes[0].set_xlabel(\"dt at 0th level\")\n",
    "axes[0].set_ylabel(\"measured error\")\n",
    "axes[0].legend()\n",
    "\n",
    "# Linear plot\n",
    "axes[1].plot(dt0s, mean_levels, label=\"average max_level\", color=\"r\")\n",
    "axes[1].set_title(\"max level vs epsilon\")\n",
    "axes[1].set_xlabel(\"dt at 0th level\")\n",
    "axes[1].set_ylabel(\"average max_level\")\n",
    "axes[1].set_xscale(\"log\", base=2)\n",
    "\n",
    "axes[1].legend()\n",
    "\n",
    "# Show plots\n",
    "plt.tight_layout()  # Adjust spacing\n",
    "plt.show()"
   ]
  },
  {
   "cell_type": "code",
   "execution_count": null,
   "id": "d24cbd6b-0fda-48d0-97e5-5b51ca072b3a",
   "metadata": {},
   "outputs": [],
   "source": [
    "import matplotlib.pyplot as plt\n",
    "N = 50\n",
    "x = y = .5\n",
    "dt0 = .01\n",
    "epsilons = [.1, .05, .025, .0125]\n",
    "mean_errs = []\n",
    "mean_levels = []\n",
    "mean_costs = []\n",
    "\n",
    "for eps in epsilons:\n",
    "    errs, costs, levels = check_mlmc(N, eps, dt0)\n",
    "    print(\"average error: \", errs.mean())\n",
    "    print(\"maximal error: \", errs.max())\n",
    "    print(\"minimal error: \", errs.min())    \n",
    "    print(\"std of error: \", errs.std())\n",
    "    mean_errs.append(errs.mean())\n",
    "    mean_levels.append(levels.mean())\n",
    "\n",
    "# Create subplots with 1 row, 2 columns\n",
    "fig, axes = plt.subplots(1, 2, figsize=(12, 5))\n",
    "\n",
    "# Log-Log plot\n",
    "axes[0].loglog(epsilons, mean_errs, label=\"average error\")\n",
    "axes[0].set_title(\"average error\")\n",
    "axes[0].set_xlabel(\"target epsilon\")\n",
    "axes[0].set_ylabel(\"measured error\")\n",
    "axes[0].legend()\n",
    "\n",
    "# Linear plot\n",
    "axes[1].plot(epsilons, mean_levels, label=\"max_level\", color=\"r\")\n",
    "axes[1].set_title(\"max level vs epsilon\")\n",
    "axes[1].set_xlabel(\"target epsilon\")\n",
    "axes[1].set_ylabel(\"average max_level\")\n",
    "axes[1].set_xscale(\"log\")\n",
    "axes[1].legend()\n",
    "\n",
    "# Show plots\n",
    "plt.tight_layout()  # Adjust spacing\n",
    "plt.show()"
   ]
  },
  {
   "cell_type": "code",
   "execution_count": null,
   "id": "fbb4e3c8-7070-406a-a2bf-3b4c61bf8b17",
   "metadata": {},
   "outputs": [],
   "source": [
    "# benchmark how long it takes to generate a single sample\n",
    "from random_walk import feynman_kac_correlated\n",
    "x = .5\n",
    "y = .5\n",
    "dt_fine = .0001\n",
    "level = 1\n",
    "\n",
    "%timeit feynman_kac_correlated((x, y, test_bound, test_rhs, dt_fine, level))"
   ]
  },
  {
   "cell_type": "code",
   "execution_count": null,
   "id": "28e98887-f425-4554-9718-7b3ec415124e",
   "metadata": {},
   "outputs": [],
   "source": [
    "y = np.log2(np.abs(np.array([-6.05463385e-02, -3.70904309e-02, -2.06358718e-02, \n",
    "                    -2.25945456e-02, -1.50705625e-02, -9.64745850e-04])))\n",
    "x = np.linspace(1, 6, 6)\n",
    "\n",
    "a, b = np.polyfit(x, y, 1)\n",
    "a2, b2, = np.polyfit(x[:-1], y[:-1], 1)"
   ]
  },
  {
   "cell_type": "code",
   "execution_count": null,
   "id": "354adf33-207a-4413-b138-c6796a7e4f56",
   "metadata": {},
   "outputs": [],
   "source": [
    "plt.scatter(x, y, label=\"log of measured expectations\", color=\"b\")\n",
    "plt.plot(x, a*x + b, label=\"prediction\", color=\"r\")\n",
    "plt.plot(x, a2*x + b2, label=\"prediction without outlier\", color=\"g\")\n",
    "plt.title(\"measured vs estimated convergence rate\")\n",
    "plt.legend()\n",
    "plt.show"
   ]
  },
  {
   "cell_type": "code",
   "execution_count": null,
   "id": "ecf902d4-9c5b-44f6-a36a-6f1040b99f34",
   "metadata": {},
   "outputs": [],
   "source": []
  }
 ],
 "metadata": {
  "kernelspec": {
   "display_name": "Python 3 (ipykernel)",
   "language": "python",
   "name": "python3"
  },
  "language_info": {
   "codemirror_mode": {
    "name": "ipython",
    "version": 3
   },
   "file_extension": ".py",
   "mimetype": "text/x-python",
   "name": "python",
   "nbconvert_exporter": "python",
   "pygments_lexer": "ipython3",
   "version": "3.13.2"
  }
 },
 "nbformat": 4,
 "nbformat_minor": 5
}
